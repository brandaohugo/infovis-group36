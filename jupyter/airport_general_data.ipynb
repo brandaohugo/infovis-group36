{
 "cells": [
  {
   "cell_type": "code",
   "execution_count": 1,
   "metadata": {
    "collapsed": true
   },
   "outputs": [],
   "source": [
    "import pandas as pd\n",
    "\n",
    "pd.options.display.max_columns = None\n",
    "\n",
    "df = pd.read_csv(\"../app/data/flight_data_raw.csv\")"
   ]
  },
  {
   "cell_type": "code",
   "execution_count": 34,
   "outputs": [
    {
     "data": {
      "text/plain": "    ORIGIN  num_of_flights\n0      ABE            4168\n1      ABI            2022\n2      ABQ           24047\n3      ABR             745\n4      ABY            1018\n..     ...             ...\n353    WYS             239\n354    XNA           12571\n355    YAK             722\n356    YNG               2\n357    YUM            1376\n\n[358 rows x 2 columns]",
      "text/html": "<div>\n<style scoped>\n    .dataframe tbody tr th:only-of-type {\n        vertical-align: middle;\n    }\n\n    .dataframe tbody tr th {\n        vertical-align: top;\n    }\n\n    .dataframe thead th {\n        text-align: right;\n    }\n</style>\n<table border=\"1\" class=\"dataframe\">\n  <thead>\n    <tr style=\"text-align: right;\">\n      <th></th>\n      <th>ORIGIN</th>\n      <th>num_of_flights</th>\n    </tr>\n  </thead>\n  <tbody>\n    <tr>\n      <th>0</th>\n      <td>ABE</td>\n      <td>4168</td>\n    </tr>\n    <tr>\n      <th>1</th>\n      <td>ABI</td>\n      <td>2022</td>\n    </tr>\n    <tr>\n      <th>2</th>\n      <td>ABQ</td>\n      <td>24047</td>\n    </tr>\n    <tr>\n      <th>3</th>\n      <td>ABR</td>\n      <td>745</td>\n    </tr>\n    <tr>\n      <th>4</th>\n      <td>ABY</td>\n      <td>1018</td>\n    </tr>\n    <tr>\n      <th>...</th>\n      <td>...</td>\n      <td>...</td>\n    </tr>\n    <tr>\n      <th>353</th>\n      <td>WYS</td>\n      <td>239</td>\n    </tr>\n    <tr>\n      <th>354</th>\n      <td>XNA</td>\n      <td>12571</td>\n    </tr>\n    <tr>\n      <th>355</th>\n      <td>YAK</td>\n      <td>722</td>\n    </tr>\n    <tr>\n      <th>356</th>\n      <td>YNG</td>\n      <td>2</td>\n    </tr>\n    <tr>\n      <th>357</th>\n      <td>YUM</td>\n      <td>1376</td>\n    </tr>\n  </tbody>\n</table>\n<p>358 rows × 2 columns</p>\n</div>"
     },
     "execution_count": 34,
     "metadata": {},
     "output_type": "execute_result"
    }
   ],
   "source": [
    "outgoing_flights = df.groupby([\"ORIGIN\"]).size()\n",
    "outgoing_flights = outgoing_flights.to_frame().reset_index()\n",
    "outgoing_flights = outgoing_flights.rename(columns={0: \"num_of_flights\"})\n",
    "outgoing_flights"
   ],
   "metadata": {
    "collapsed": false,
    "pycharm": {
     "name": "#%%\n"
    }
   }
  },
  {
   "cell_type": "code",
   "execution_count": 35,
   "outputs": [],
   "source": [
    "number_of_connections = df.groupby(\"ORIGIN\").agg({\"DEST\": \"nunique\"})\n",
    "number_of_connections = number_of_connections.reset_index()\n",
    "number_of_connections = number_of_connections.rename(columns={\"DEST\": \"num_of_connections\"})"
   ],
   "metadata": {
    "collapsed": false,
    "pycharm": {
     "name": "#%%\n"
    }
   }
  },
  {
   "cell_type": "code",
   "execution_count": 38,
   "outputs": [
    {
     "data": {
      "text/plain": "    ORIGIN  num_of_connections  num_of_flights\n0      ABE                  11            4168\n1      ABI                   1            2022\n2      ABQ                  26           24047\n3      ABR                   1             745\n4      ABY                   1            1018\n..     ...                 ...             ...\n353    WYS                   1             239\n354    XNA                  17           12571\n355    YAK                   2             722\n356    YNG                   2               2\n357    YUM                   1            1376\n\n[358 rows x 3 columns]",
      "text/html": "<div>\n<style scoped>\n    .dataframe tbody tr th:only-of-type {\n        vertical-align: middle;\n    }\n\n    .dataframe tbody tr th {\n        vertical-align: top;\n    }\n\n    .dataframe thead th {\n        text-align: right;\n    }\n</style>\n<table border=\"1\" class=\"dataframe\">\n  <thead>\n    <tr style=\"text-align: right;\">\n      <th></th>\n      <th>ORIGIN</th>\n      <th>num_of_connections</th>\n      <th>num_of_flights</th>\n    </tr>\n  </thead>\n  <tbody>\n    <tr>\n      <th>0</th>\n      <td>ABE</td>\n      <td>11</td>\n      <td>4168</td>\n    </tr>\n    <tr>\n      <th>1</th>\n      <td>ABI</td>\n      <td>1</td>\n      <td>2022</td>\n    </tr>\n    <tr>\n      <th>2</th>\n      <td>ABQ</td>\n      <td>26</td>\n      <td>24047</td>\n    </tr>\n    <tr>\n      <th>3</th>\n      <td>ABR</td>\n      <td>1</td>\n      <td>745</td>\n    </tr>\n    <tr>\n      <th>4</th>\n      <td>ABY</td>\n      <td>1</td>\n      <td>1018</td>\n    </tr>\n    <tr>\n      <th>...</th>\n      <td>...</td>\n      <td>...</td>\n      <td>...</td>\n    </tr>\n    <tr>\n      <th>353</th>\n      <td>WYS</td>\n      <td>1</td>\n      <td>239</td>\n    </tr>\n    <tr>\n      <th>354</th>\n      <td>XNA</td>\n      <td>17</td>\n      <td>12571</td>\n    </tr>\n    <tr>\n      <th>355</th>\n      <td>YAK</td>\n      <td>2</td>\n      <td>722</td>\n    </tr>\n    <tr>\n      <th>356</th>\n      <td>YNG</td>\n      <td>2</td>\n      <td>2</td>\n    </tr>\n    <tr>\n      <th>357</th>\n      <td>YUM</td>\n      <td>1</td>\n      <td>1376</td>\n    </tr>\n  </tbody>\n</table>\n<p>358 rows × 3 columns</p>\n</div>"
     },
     "execution_count": 38,
     "metadata": {},
     "output_type": "execute_result"
    }
   ],
   "source": [
    "merged_df = pd.merge(number_of_connections, outgoing_flights)\n",
    "merged_df"
   ],
   "metadata": {
    "collapsed": false,
    "pycharm": {
     "name": "#%%\n"
    }
   }
  },
  {
   "cell_type": "code",
   "execution_count": 54,
   "outputs": [],
   "source": [
    "airport_data = pd.read_csv(\"../app/data/airports_2018.csv\")\n",
    "airport_data_merged = pd.merge(airport_data, merged_df, left_on=\"iata\", right_on=\"ORIGIN\")\n",
    "airport_data_merged = airport_data_merged.drop(['Unnamed: 0', \"ORIGIN\"], axis=1)\n",
    "\n",
    "airport_data_merged.to_csv('airports_2018_v1.csv', index=False)"
   ],
   "metadata": {
    "collapsed": false,
    "pycharm": {
     "name": "#%%\n"
    }
   }
  }
 ],
 "metadata": {
  "kernelspec": {
   "display_name": "Python 3",
   "language": "python",
   "name": "python3"
  },
  "language_info": {
   "codemirror_mode": {
    "name": "ipython",
    "version": 2
   },
   "file_extension": ".py",
   "mimetype": "text/x-python",
   "name": "python",
   "nbconvert_exporter": "python",
   "pygments_lexer": "ipython2",
   "version": "2.7.6"
  }
 },
 "nbformat": 4,
 "nbformat_minor": 0
}
