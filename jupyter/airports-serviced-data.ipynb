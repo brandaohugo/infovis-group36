{
 "cells": [
  {
   "cell_type": "code",
   "execution_count": 2,
   "metadata": {},
   "outputs": [],
   "source": [
    "import pandas as pd\n",
    "import numpy as np\n",
    "import os\n",
    "from scipy import stats\n",
    "pd.options.display.max_columns = None\n"
   ]
  },
  {
   "cell_type": "code",
   "execution_count": 3,
   "metadata": {
    "pycharm": {
     "name": "#%%\n"
    }
   },
   "outputs": [],
   "source": [
    "df_raw=pd.read_csv(\"../app/data/flight_data_raw.csv\")"
   ]
  },
  {
   "cell_type": "code",
   "execution_count": null,
   "metadata": {
    "pycharm": {
     "name": "#%%\n",
     "is_executing": true
    }
   },
   "outputs": [],
   "source": [
    "df_raw.head()"
   ]
  },
  {
   "cell_type": "markdown",
   "metadata": {},
   "source": [
    "Remove extreme outliers"
   ]
  },
  {
   "cell_type": "code",
   "execution_count": null,
   "metadata": {
    "pycharm": {
     "is_executing": true
    }
   },
   "outputs": [],
   "source": [
    "df=df_raw[(np.abs(df_raw.ARR_DELAY-df_raw.ARR_DELAY.mean()) <= (3*df_raw.ARR_DELAY.std())) | (df_raw[\"CANCELLED\"]==1)]\n",
    "# keep only the ones that are within +3 to -3 standard deviations in the column 'ARR_DELAY'.\n"
   ]
  },
  {
   "cell_type": "code",
   "execution_count": null,
   "metadata": {
    "pycharm": {
     "name": "#%%\n",
     "is_executing": true
    }
   },
   "outputs": [],
   "source": [
    "count=df.groupby([\"ORIGIN\",\"DEST\"]).size()\n",
    "count\n"
   ]
  },
  {
   "cell_type": "code",
   "execution_count": null,
   "metadata": {
    "pycharm": {
     "is_executing": true
    }
   },
   "outputs": [],
   "source": [
    "df[df[\"CANCELLED\"]==1]"
   ]
  },
  {
   "cell_type": "code",
   "execution_count": null,
   "metadata": {
    "pycharm": {
     "is_executing": true
    }
   },
   "outputs": [],
   "source": []
  },
  {
   "cell_type": "code",
   "execution_count": null,
   "metadata": {
    "pycharm": {
     "name": "#%%\n",
     "is_executing": true
    }
   },
   "outputs": [],
   "source": [
    "#this works to get airport list\n",
    "#df2 = df[[\"ORIGIN\",\"DEST\"]].groupby('ORIGIN').aggregate(lambda tdf: tdf.unique().tolist())"
   ]
  },
  {
   "cell_type": "code",
   "execution_count": null,
   "metadata": {
    "pycharm": {
     "is_executing": true
    }
   },
   "outputs": [],
   "source": []
  },
  {
   "cell_type": "code",
   "execution_count": null,
   "metadata": {
    "pycharm": {
     "is_executing": true
    }
   },
   "outputs": [],
   "source": [
    "df.shape"
   ]
  },
  {
   "cell_type": "markdown",
   "metadata": {},
   "source": [
    "Atlanta has 166 Airports they fly to!"
   ]
  },
  {
   "cell_type": "markdown",
   "metadata": {},
   "source": [
    "Create the final output csv:"
   ]
  },
  {
   "cell_type": "markdown",
   "metadata": {},
   "source": [
    "Number of flights"
   ]
  },
  {
   "cell_type": "code",
   "execution_count": null,
   "metadata": {
    "scrolled": true,
    "pycharm": {
     "is_executing": true
    }
   },
   "outputs": [],
   "source": [
    "x = df.groupby([\"ORIGIN\",\"DEST\"]).size()\n",
    "\n",
    "idx = pd.MultiIndex.from_product((df.ORIGIN.unique(), df.DEST.unique()))\n",
    "\n",
    "r = x.reindex(idx).dropna()\n",
    "r=r.reset_index()\n",
    "\n"
   ]
  },
  {
   "cell_type": "markdown",
   "metadata": {},
   "source": [
    "Average delay"
   ]
  },
  {
   "cell_type": "code",
   "execution_count": null,
   "metadata": {
    "pycharm": {
     "is_executing": true
    }
   },
   "outputs": [],
   "source": [
    "\n",
    "y = df.groupby([\"ORIGIN\",\"DEST\"]).mean()[\"ARR_DELAY\"]\n",
    "\n",
    "idx = pd.MultiIndex.from_product((df.ORIGIN.unique(), df.DEST.unique()))\n",
    "\n",
    "r_2 = y.reindex(idx).dropna()\n",
    "\n",
    "r_2=r_2.reset_index()\n",
    "#r_2.groupby('level_0').apply(lambda x: dict(zip(x['level_1'],x[\"ARR_DELAY\"])))\\"
   ]
  },
  {
   "cell_type": "markdown",
   "metadata": {},
   "source": [
    "Causes of delay as percentage"
   ]
  },
  {
   "cell_type": "code",
   "execution_count": null,
   "metadata": {
    "pycharm": {
     "is_executing": true
    }
   },
   "outputs": [],
   "source": [
    "\n",
    "z = df.groupby([\"ORIGIN\",\"DEST\"]).sum()[[\"CANCELLED\",\"CARRIER_DELAY\",\"WEATHER_DELAY\",\"NAS_DELAY\",\"SECURITY_DELAY\",\"LATE_AIRCRAFT_DELAY\"]]\n",
    "\n",
    "r_3 = z.reindex(idx).dropna()\n",
    "\n",
    "r_3=r_3.reset_index()\n",
    "#r_2.groupby('level_0').apply(lambda x: dict(zip(x['level_1'],x[\"ARR_DELAY\"])))\\\n",
    "r_3"
   ]
  },
  {
   "cell_type": "code",
   "execution_count": null,
   "metadata": {
    "pycharm": {
     "is_executing": true
    }
   },
   "outputs": [],
   "source": []
  },
  {
   "cell_type": "code",
   "execution_count": null,
   "metadata": {
    "pycharm": {
     "is_executing": true
    }
   },
   "outputs": [],
   "source": []
  },
  {
   "cell_type": "code",
   "execution_count": null,
   "metadata": {
    "pycharm": {
     "is_executing": true
    }
   },
   "outputs": [],
   "source": [
    "r_join= r.merge(r_3, how=\"left\", on=[\"level_0\",\"level_1\"])\n",
    "r_join= r_join.merge(r_2, how=\"left\", on=[\"level_0\",\"level_1\"])\n",
    "r_join.rename(columns= {0: \"FLIGHT_VOLUME\"}, inplace=True)"
   ]
  },
  {
   "cell_type": "code",
   "execution_count": null,
   "metadata": {
    "pycharm": {
     "is_executing": true
    }
   },
   "outputs": [],
   "source": [
    "r_join[\"VOLUME_RANK\"]=r_join[\"FLIGHT_VOLUME\"].rank(method='max',ascending=False).astype(int)"
   ]
  },
  {
   "cell_type": "code",
   "execution_count": null,
   "metadata": {
    "pycharm": {
     "is_executing": true
    }
   },
   "outputs": [],
   "source": [
    "r_join = r_join.rename(columns={\"level_0\": \"origin\", \"level_1\": \"destination\", \"FLIGHT_VOLUME\": \"flight_volume\",\"ARR_DELAY\": \"arr_delay\",\n",
    "                       \"CANCELLED\": \"cancelled\",\"CARRIER_DELAY\":\"carrier_delay\",\"WEATHER_DELAY\":\"weather_delay\",\"NAS_DELAY\":\"nas_delay\",\n",
    "                       \"SECURITY_DELAY\":\"security_delay\",\"LATE_AIRCRAFT_DELAY\":\"late_aircraft_delay\",\"VOLUME_RANK\":\"volume_rank\"})\n",
    "r_join = r_join.sort_values(by=['origin'])\n",
    "\n",
    "r_join.to_csv('flights_v1.csv', index=False)"
   ]
  },
  {
   "cell_type": "code",
   "execution_count": null,
   "metadata": {
    "pycharm": {
     "is_executing": true
    }
   },
   "outputs": [],
   "source": [
    "# target=r_join.groupby('level_0')[['level_1',\"FLIGHT_VOLUME\",\"ARR_DELAY\",\"CANCELLED\",\"CARRIER_DELAY\",\"WEATHER_DELAY\",\"NAS_DELAY\",\"SECURITY_DELAY\",\"LATE_AIRCRAFT_DELAY\",\"VOLUME_RANK\"]].apply(lambda x: x.set_index('level_1').to_dict(orient='index'))\n",
    "# target\n",
    "#"
   ]
  },
  {
   "cell_type": "code",
   "execution_count": null,
   "metadata": {
    "pycharm": {
     "is_executing": true
    }
   },
   "outputs": [],
   "source": [
    "# r\n",
    "#"
   ]
  },
  {
   "cell_type": "code",
   "execution_count": null,
   "metadata": {
    "pycharm": {
     "is_executing": true
    }
   },
   "outputs": [],
   "source": []
  },
  {
   "cell_type": "code",
   "execution_count": null,
   "metadata": {
    "pycharm": {
     "is_executing": true
    }
   },
   "outputs": [],
   "source": [
    "# target.to_csv(\"airports_serviced_data.csv\")\n",
    "#"
   ]
  },
  {
   "cell_type": "code",
   "execution_count": null,
   "metadata": {
    "pycharm": {
     "is_executing": true
    }
   },
   "outputs": [],
   "source": []
  }
 ],
 "metadata": {
  "kernelspec": {
   "name": "python3",
   "language": "python",
   "display_name": "Python 3"
  },
  "language_info": {
   "codemirror_mode": {
    "name": "ipython",
    "version": 3
   },
   "file_extension": ".py",
   "mimetype": "text/x-python",
   "name": "python",
   "nbconvert_exporter": "python",
   "pygments_lexer": "ipython3",
   "version": "3.7.4"
  }
 },
 "nbformat": 4,
 "nbformat_minor": 1
}