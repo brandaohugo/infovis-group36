{
 "cells": [
  {
   "cell_type": "code",
   "execution_count": 12,
   "metadata": {},
   "outputs": [],
   "source": [
    "import pandas as pd\n",
    "import numpy as np\n",
    "import os\n",
    "pd.options.display.max_columns = None"
   ]
  },
  {
   "cell_type": "code",
   "execution_count": 2,
   "metadata": {
    "pycharm": {
     "name": "#%%\n"
    }
   },
   "outputs": [],
   "source": [
    "df=pd.read_csv(\"../../flight_data_raw.csv\")"
   ]
  },
  {
   "cell_type": "code",
   "execution_count": 13,
   "metadata": {
    "pycharm": {
     "name": "#%%\n"
    }
   },
   "outputs": [
    {
     "data": {
      "text/html": [
       "<div>\n",
       "<style scoped>\n",
       "    .dataframe tbody tr th:only-of-type {\n",
       "        vertical-align: middle;\n",
       "    }\n",
       "\n",
       "    .dataframe tbody tr th {\n",
       "        vertical-align: top;\n",
       "    }\n",
       "\n",
       "    .dataframe thead th {\n",
       "        text-align: right;\n",
       "    }\n",
       "</style>\n",
       "<table border=\"1\" class=\"dataframe\">\n",
       "  <thead>\n",
       "    <tr style=\"text-align: right;\">\n",
       "      <th></th>\n",
       "      <th>YEAR</th>\n",
       "      <th>MONTH</th>\n",
       "      <th>DAY_OF_MONTH</th>\n",
       "      <th>DAY_OF_WEEK</th>\n",
       "      <th>OP_CARRIER</th>\n",
       "      <th>ORIGIN</th>\n",
       "      <th>DEST</th>\n",
       "      <th>CRS_DEP_TIME</th>\n",
       "      <th>DEP_TIME</th>\n",
       "      <th>DEP_DELAY</th>\n",
       "      <th>DEP_DEL15</th>\n",
       "      <th>CRS_ARR_TIME</th>\n",
       "      <th>ARR_TIME</th>\n",
       "      <th>ARR_DELAY</th>\n",
       "      <th>ARR_DEL15</th>\n",
       "      <th>CANCELLED</th>\n",
       "      <th>CANCELLATION_CODE</th>\n",
       "      <th>DIVERTED</th>\n",
       "      <th>AIR_TIME</th>\n",
       "      <th>DISTANCE</th>\n",
       "      <th>CARRIER_DELAY</th>\n",
       "      <th>WEATHER_DELAY</th>\n",
       "      <th>NAS_DELAY</th>\n",
       "      <th>SECURITY_DELAY</th>\n",
       "      <th>LATE_AIRCRAFT_DELAY</th>\n",
       "      <th>V26</th>\n",
       "    </tr>\n",
       "  </thead>\n",
       "  <tbody>\n",
       "    <tr>\n",
       "      <th>0</th>\n",
       "      <td>2018</td>\n",
       "      <td>4</td>\n",
       "      <td>26</td>\n",
       "      <td>4</td>\n",
       "      <td>UA</td>\n",
       "      <td>DTW</td>\n",
       "      <td>EWR</td>\n",
       "      <td>910</td>\n",
       "      <td>1107.0</td>\n",
       "      <td>117.0</td>\n",
       "      <td>1.0</td>\n",
       "      <td>1053</td>\n",
       "      <td>1253.0</td>\n",
       "      <td>120.0</td>\n",
       "      <td>1.0</td>\n",
       "      <td>0</td>\n",
       "      <td>NaN</td>\n",
       "      <td>0</td>\n",
       "      <td>73.0</td>\n",
       "      <td>488</td>\n",
       "      <td>33.0</td>\n",
       "      <td>0.0</td>\n",
       "      <td>3.0</td>\n",
       "      <td>0.0</td>\n",
       "      <td>84.0</td>\n",
       "      <td>NaN</td>\n",
       "    </tr>\n",
       "    <tr>\n",
       "      <th>1</th>\n",
       "      <td>2018</td>\n",
       "      <td>4</td>\n",
       "      <td>26</td>\n",
       "      <td>4</td>\n",
       "      <td>UA</td>\n",
       "      <td>EWR</td>\n",
       "      <td>RDU</td>\n",
       "      <td>1400</td>\n",
       "      <td>1349.0</td>\n",
       "      <td>-11.0</td>\n",
       "      <td>0.0</td>\n",
       "      <td>1541</td>\n",
       "      <td>1521.0</td>\n",
       "      <td>-20.0</td>\n",
       "      <td>0.0</td>\n",
       "      <td>0</td>\n",
       "      <td>NaN</td>\n",
       "      <td>0</td>\n",
       "      <td>74.0</td>\n",
       "      <td>416</td>\n",
       "      <td>NaN</td>\n",
       "      <td>NaN</td>\n",
       "      <td>NaN</td>\n",
       "      <td>NaN</td>\n",
       "      <td>NaN</td>\n",
       "      <td>NaN</td>\n",
       "    </tr>\n",
       "    <tr>\n",
       "      <th>2</th>\n",
       "      <td>2018</td>\n",
       "      <td>4</td>\n",
       "      <td>26</td>\n",
       "      <td>4</td>\n",
       "      <td>UA</td>\n",
       "      <td>SFO</td>\n",
       "      <td>EUG</td>\n",
       "      <td>1059</td>\n",
       "      <td>1115.0</td>\n",
       "      <td>16.0</td>\n",
       "      <td>1.0</td>\n",
       "      <td>1232</td>\n",
       "      <td>1242.0</td>\n",
       "      <td>10.0</td>\n",
       "      <td>0.0</td>\n",
       "      <td>0</td>\n",
       "      <td>NaN</td>\n",
       "      <td>0</td>\n",
       "      <td>61.0</td>\n",
       "      <td>451</td>\n",
       "      <td>NaN</td>\n",
       "      <td>NaN</td>\n",
       "      <td>NaN</td>\n",
       "      <td>NaN</td>\n",
       "      <td>NaN</td>\n",
       "      <td>NaN</td>\n",
       "    </tr>\n",
       "    <tr>\n",
       "      <th>3</th>\n",
       "      <td>2018</td>\n",
       "      <td>4</td>\n",
       "      <td>26</td>\n",
       "      <td>4</td>\n",
       "      <td>UA</td>\n",
       "      <td>TPA</td>\n",
       "      <td>IAD</td>\n",
       "      <td>1858</td>\n",
       "      <td>1853.0</td>\n",
       "      <td>-5.0</td>\n",
       "      <td>0.0</td>\n",
       "      <td>2111</td>\n",
       "      <td>2058.0</td>\n",
       "      <td>-13.0</td>\n",
       "      <td>0.0</td>\n",
       "      <td>0</td>\n",
       "      <td>NaN</td>\n",
       "      <td>0</td>\n",
       "      <td>108.0</td>\n",
       "      <td>811</td>\n",
       "      <td>NaN</td>\n",
       "      <td>NaN</td>\n",
       "      <td>NaN</td>\n",
       "      <td>NaN</td>\n",
       "      <td>NaN</td>\n",
       "      <td>NaN</td>\n",
       "    </tr>\n",
       "    <tr>\n",
       "      <th>4</th>\n",
       "      <td>2018</td>\n",
       "      <td>4</td>\n",
       "      <td>26</td>\n",
       "      <td>4</td>\n",
       "      <td>UA</td>\n",
       "      <td>SFO</td>\n",
       "      <td>BOS</td>\n",
       "      <td>1630</td>\n",
       "      <td>1625.0</td>\n",
       "      <td>-5.0</td>\n",
       "      <td>0.0</td>\n",
       "      <td>118</td>\n",
       "      <td>114.0</td>\n",
       "      <td>-4.0</td>\n",
       "      <td>0.0</td>\n",
       "      <td>0</td>\n",
       "      <td>NaN</td>\n",
       "      <td>0</td>\n",
       "      <td>316.0</td>\n",
       "      <td>2704</td>\n",
       "      <td>NaN</td>\n",
       "      <td>NaN</td>\n",
       "      <td>NaN</td>\n",
       "      <td>NaN</td>\n",
       "      <td>NaN</td>\n",
       "      <td>NaN</td>\n",
       "    </tr>\n",
       "  </tbody>\n",
       "</table>\n",
       "</div>"
      ],
      "text/plain": [
       "   YEAR  MONTH  DAY_OF_MONTH  DAY_OF_WEEK OP_CARRIER ORIGIN DEST  \\\n",
       "0  2018      4            26            4         UA    DTW  EWR   \n",
       "1  2018      4            26            4         UA    EWR  RDU   \n",
       "2  2018      4            26            4         UA    SFO  EUG   \n",
       "3  2018      4            26            4         UA    TPA  IAD   \n",
       "4  2018      4            26            4         UA    SFO  BOS   \n",
       "\n",
       "   CRS_DEP_TIME  DEP_TIME  DEP_DELAY  DEP_DEL15  CRS_ARR_TIME  ARR_TIME  \\\n",
       "0           910    1107.0      117.0        1.0          1053    1253.0   \n",
       "1          1400    1349.0      -11.0        0.0          1541    1521.0   \n",
       "2          1059    1115.0       16.0        1.0          1232    1242.0   \n",
       "3          1858    1853.0       -5.0        0.0          2111    2058.0   \n",
       "4          1630    1625.0       -5.0        0.0           118     114.0   \n",
       "\n",
       "   ARR_DELAY  ARR_DEL15  CANCELLED CANCELLATION_CODE  DIVERTED  AIR_TIME  \\\n",
       "0      120.0        1.0          0               NaN         0      73.0   \n",
       "1      -20.0        0.0          0               NaN         0      74.0   \n",
       "2       10.0        0.0          0               NaN         0      61.0   \n",
       "3      -13.0        0.0          0               NaN         0     108.0   \n",
       "4       -4.0        0.0          0               NaN         0     316.0   \n",
       "\n",
       "   DISTANCE  CARRIER_DELAY  WEATHER_DELAY  NAS_DELAY  SECURITY_DELAY  \\\n",
       "0       488           33.0            0.0        3.0             0.0   \n",
       "1       416            NaN            NaN        NaN             NaN   \n",
       "2       451            NaN            NaN        NaN             NaN   \n",
       "3       811            NaN            NaN        NaN             NaN   \n",
       "4      2704            NaN            NaN        NaN             NaN   \n",
       "\n",
       "   LATE_AIRCRAFT_DELAY  V26  \n",
       "0                 84.0  NaN  \n",
       "1                  NaN  NaN  \n",
       "2                  NaN  NaN  \n",
       "3                  NaN  NaN  \n",
       "4                  NaN  NaN  "
      ]
     },
     "execution_count": 13,
     "metadata": {},
     "output_type": "execute_result"
    }
   ],
   "source": [
    "df.head()"
   ]
  },
  {
   "cell_type": "code",
   "execution_count": 5,
   "metadata": {
    "pycharm": {
     "name": "#%%\n"
    }
   },
   "outputs": [
    {
     "data": {
      "text/plain": [
       "ORIGIN  DEST\n",
       "ABE     ATL      969\n",
       "        CLT      955\n",
       "        DTW      924\n",
       "        FLL       73\n",
       "        MDT        1\n",
       "                ... \n",
       "YAK     CDV      361\n",
       "        JNU      361\n",
       "YNG     PIE        1\n",
       "        SFB        1\n",
       "YUM     PHX     1376\n",
       "Length: 6365, dtype: int64"
      ]
     },
     "execution_count": 5,
     "metadata": {},
     "output_type": "execute_result"
    }
   ],
   "source": [
    "count=df.groupby([\"ORIGIN\",\"DEST\"]).size()\n",
    "count\n"
   ]
  },
  {
   "cell_type": "code",
   "execution_count": 6,
   "metadata": {
    "pycharm": {
     "name": "#%%\n"
    }
   },
   "outputs": [],
   "source": [
    "#this works to get airport list\n",
    "#df2 = df[[\"ORIGIN\",\"DEST\"]].groupby('ORIGIN').aggregate(lambda tdf: tdf.unique().tolist())"
   ]
  },
  {
   "cell_type": "code",
   "execution_count": 7,
   "metadata": {},
   "outputs": [
    {
     "ename": "NameError",
     "evalue": "name 'df2' is not defined",
     "output_type": "error",
     "traceback": [
      "\u001b[0;31m---------------------------------------------------------------------------\u001b[0m",
      "\u001b[0;31mNameError\u001b[0m                                 Traceback (most recent call last)",
      "\u001b[0;32m<ipython-input-7-a48a0eda399c>\u001b[0m in \u001b[0;36m<module>\u001b[0;34m\u001b[0m\n\u001b[0;32m----> 1\u001b[0;31m \u001b[0mlen\u001b[0m\u001b[0;34m(\u001b[0m\u001b[0mdf2\u001b[0m\u001b[0;34m.\u001b[0m\u001b[0mloc\u001b[0m\u001b[0;34m[\u001b[0m\u001b[0;34m\"ATL\"\u001b[0m\u001b[0;34m]\u001b[0m\u001b[0;34m[\u001b[0m\u001b[0;34m\"DEST\"\u001b[0m\u001b[0;34m]\u001b[0m\u001b[0;34m)\u001b[0m\u001b[0;34m\u001b[0m\u001b[0;34m\u001b[0m\u001b[0m\n\u001b[0m",
      "\u001b[0;31mNameError\u001b[0m: name 'df2' is not defined"
     ]
    }
   ],
   "source": [
    "len(df2.loc[\"ATL\"][\"DEST\"])"
   ]
  },
  {
   "cell_type": "markdown",
   "metadata": {},
   "source": [
    "Atlanta has 166 Airports they fly to!"
   ]
  },
  {
   "cell_type": "markdown",
   "metadata": {},
   "source": [
    "Create the final output csv:"
   ]
  },
  {
   "cell_type": "code",
   "execution_count": 99,
   "metadata": {
    "scrolled": true
   },
   "outputs": [],
   "source": [
    "x = df.groupby([\"ORIGIN\",\"DEST\"]).size()\n",
    "\n",
    "idx = pd.MultiIndex.from_product((df.ORIGIN.unique(), df.DEST.unique()))\n",
    "\n",
    "r = x.reindex(idx).dropna()\n",
    "r=r.reset_index()\n",
    "          \n"
   ]
  },
  {
   "cell_type": "code",
   "execution_count": 125,
   "metadata": {},
   "outputs": [],
   "source": [
    "\n",
    "y = df.groupby([\"ORIGIN\",\"DEST\"]).mean()[\"ARR_DELAY\"]\n",
    "\n",
    "idx = pd.MultiIndex.from_product((df.ORIGIN.unique(), df.DEST.unique()))\n",
    "\n",
    "r_2 = y.reindex(idx).dropna()\n",
    "\n",
    "r_2=r_2.reset_index() \n",
    "#r_2.groupby('level_0').apply(lambda x: dict(zip(x['level_1'],x[\"ARR_DELAY\"])))\\"
   ]
  },
  {
   "cell_type": "code",
   "execution_count": null,
   "metadata": {},
   "outputs": [],
   "source": []
  },
  {
   "cell_type": "code",
   "execution_count": 122,
   "metadata": {},
   "outputs": [],
   "source": [
    "r_join= r.merge(r_2, how=\"left\", on=[\"level_0\",\"level_1\"])\n",
    "r_join.rename(columns= {0: \"FLIGHT_VOLUME\"}, inplace=True)"
   ]
  },
  {
   "cell_type": "code",
   "execution_count": 123,
   "metadata": {},
   "outputs": [
    {
     "data": {
      "text/plain": [
       "level_0\n",
       "ABE    {'FLL': {'FLIGHT_VOLUME': 73.0, 'ARR_DELAY': 3...\n",
       "ABI    {'DFW': {'FLIGHT_VOLUME': 2022.0, 'ARR_DELAY':...\n",
       "ABQ    {'SAT': {'FLIGHT_VOLUME': 19.0, 'ARR_DELAY': 3...\n",
       "ABR    {'MSP': {'FLIGHT_VOLUME': 745.0, 'ARR_DELAY': ...\n",
       "ABY    {'ATL': {'FLIGHT_VOLUME': 1018.0, 'ARR_DELAY':...\n",
       "                             ...                        \n",
       "WYS    {'SLC': {'FLIGHT_VOLUME': 239.0, 'ARR_DELAY': ...\n",
       "XNA    {'EWR': {'FLIGHT_VOLUME': 325.0, 'ARR_DELAY': ...\n",
       "YAK    {'CDV': {'FLIGHT_VOLUME': 361.0, 'ARR_DELAY': ...\n",
       "YNG    {'SFB': {'FLIGHT_VOLUME': 1.0, 'ARR_DELAY': 9....\n",
       "YUM    {'PHX': {'FLIGHT_VOLUME': 1376.0, 'ARR_DELAY':...\n",
       "Length: 358, dtype: object"
      ]
     },
     "execution_count": 123,
     "metadata": {},
     "output_type": "execute_result"
    }
   ],
   "source": [
    "\n",
    "target=r_join.groupby('level_0')[['level_1',\"FLIGHT_VOLUME\",\"ARR_DELAY\"]].apply(lambda x: x.set_index('level_1').to_dict(orient='index'))\n",
    "target"
   ]
  },
  {
   "cell_type": "code",
   "execution_count": 67,
   "metadata": {},
   "outputs": [
    {
     "data": {
      "text/plain": [
       "DTW  EWR    3873.0\n",
       "     RDU    1315.0\n",
       "     IAD    1863.0\n",
       "     BOS    3734.0\n",
       "     SAT     853.0\n",
       "             ...  \n",
       "EAR  DEN     200.0\n",
       "ART  PHL      25.0\n",
       "IFP  PHX      45.0\n",
       "YNG  SFB       1.0\n",
       "     PIE       1.0\n",
       "Length: 6365, dtype: float64"
      ]
     },
     "execution_count": 67,
     "metadata": {},
     "output_type": "execute_result"
    }
   ],
   "source": [
    "r"
   ]
  },
  {
   "cell_type": "code",
   "execution_count": 63,
   "metadata": {},
   "outputs": [
    {
     "data": {
      "text/plain": [
       "<pandas.core.groupby.generic.DataFrameGroupBy object at 0x118c15860>"
      ]
     },
     "execution_count": 63,
     "metadata": {},
     "output_type": "execute_result"
    }
   ],
   "source": []
  },
  {
   "cell_type": "code",
   "execution_count": 127,
   "metadata": {},
   "outputs": [],
   "source": [
    "target.to_csv(\"airports_serviced_data.csv\")"
   ]
  },
  {
   "cell_type": "code",
   "execution_count": null,
   "metadata": {},
   "outputs": [],
   "source": []
  }
 ],
 "metadata": {
  "kernelspec": {
   "display_name": "Python 3",
   "language": "python",
   "name": "python3"
  },
  "language_info": {
   "codemirror_mode": {
    "name": "ipython",
    "version": 3
   },
   "file_extension": ".py",
   "mimetype": "text/x-python",
   "name": "python",
   "nbconvert_exporter": "python",
   "pygments_lexer": "ipython3",
   "version": "3.7.3"
  }
 },
 "nbformat": 4,
 "nbformat_minor": 1
}
