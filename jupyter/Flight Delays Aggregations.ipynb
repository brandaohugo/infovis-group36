{
 "cells": [
  {
   "cell_type": "code",
   "execution_count": 1,
   "metadata": {
    "ExecuteTime": {
     "end_time": "2021-03-09T13:36:33.025956Z",
     "start_time": "2021-03-09T13:36:32.856408Z"
    }
   },
   "outputs": [],
   "source": [
    "import pandas as pd\n",
    "import os"
   ]
  },
  {
   "cell_type": "markdown",
   "metadata": {},
   "source": [
    "### Preprocess Data"
   ]
  },
  {
   "cell_type": "code",
   "execution_count": 2,
   "metadata": {
    "ExecuteTime": {
     "end_time": "2021-03-09T13:36:40.455412Z",
     "start_time": "2021-03-09T13:36:33.027940Z"
    }
   },
   "outputs": [],
   "source": [
    "columns = ['MONTH',\n",
    "           'DAY_OF_MONTH',\n",
    "           'DAY_OF_WEEK',\n",
    "           'OP_CARRIER',\n",
    "           'ORIGIN',\n",
    "           'DEST',\n",
    "           'DEP_TIME',\n",
    "           'ARR_DELAY']\n",
    "rawdata_2018 = pd.read_csv('2018.csv', usecols=columns).dropna()"
   ]
  },
  {
   "cell_type": "code",
   "execution_count": 3,
   "metadata": {
    "ExecuteTime": {
     "end_time": "2021-03-09T13:36:40.978888Z",
     "start_time": "2021-03-09T13:36:40.457479Z"
    }
   },
   "outputs": [],
   "source": [
    "rawdata_2018['DEP_TIME'] = rawdata_2018['DEP_TIME'].transform(lambda x: (x/100).round())\n",
    "d2018 = rawdata_2018.rename(columns = {'DEP_TIME' : 'HOUR_OF_DAY', \"OP_CARRIER\": \"IATA_CODE\"})"
   ]
  },
  {
   "cell_type": "code",
   "execution_count": 4,
   "metadata": {
    "ExecuteTime": {
     "end_time": "2021-03-09T13:36:43.090850Z",
     "start_time": "2021-03-09T13:36:40.980963Z"
    }
   },
   "outputs": [],
   "source": [
    "d2018 = pd.read_csv('airlines.csv').merge(d2018, on=['IATA_CODE']).drop(columns=['IATA_CODE'])"
   ]
  },
  {
   "cell_type": "markdown",
   "metadata": {},
   "source": [
    "### Generate Aggregations"
   ]
  },
  {
   "cell_type": "code",
   "execution_count": 5,
   "metadata": {
    "ExecuteTime": {
     "end_time": "2021-03-09T13:36:43.101755Z",
     "start_time": "2021-03-09T13:36:43.095341Z"
    }
   },
   "outputs": [],
   "source": [
    "def aggregate_data(df, aggr_cols):\n",
    "    cols = df.columns\n",
    "    cols_drop = set(cols) - set(aggr_cols).union(set(['ARR_DELAY']))\n",
    "    aggr_count_df = df.groupby(aggr_cols).size().reset_index().rename(columns={0: \"volume\"})\n",
    "    aggr_sum_df = df.groupby(aggr_cols).mean().round(decimals=1).reset_index().drop(columns=cols_drop).sort_values(aggr_cols)\n",
    "    return aggr_sum_df.merge(aggr_count_df, on=aggr_cols).rename(columns={\"ORIGIN\": \"origin\", \"DEST\": \"dest\", 'AIRLINE': \"label\", \"ARR_DELAY\": \"value\"})\n",
    "\n"
   ]
  },
  {
   "cell_type": "code",
   "execution_count": 6,
   "metadata": {
    "ExecuteTime": {
     "end_time": "2021-03-09T13:36:43.110737Z",
     "start_time": "2021-03-09T13:36:43.104117Z"
    }
   },
   "outputs": [],
   "source": [
    "aggregations = {\n",
    "    \"month\": ['ORIGIN', 'DEST','AIRLINE','MONTH'],\n",
    "    \"day_of_week\": ['ORIGIN', 'DEST','AIRLINE','DAY_OF_WEEK'],\n",
    "    \"day_of_month\": ['ORIGIN', 'DEST','AIRLINE','DAY_OF_MONTH'],\n",
    "    \"hour_of_day\": ['ORIGIN', 'DEST','AIRLINE','HOUR_OF_DAY']\n",
    "}"
   ]
  },
  {
   "cell_type": "code",
   "execution_count": 7,
   "metadata": {
    "ExecuteTime": {
     "end_time": "2021-03-09T13:37:00.628846Z",
     "start_time": "2021-03-09T13:36:43.113767Z"
    }
   },
   "outputs": [
    {
     "name": "stdout",
     "output_type": "stream",
     "text": [
      "Saved /workspace/project/app/data/flights_delay_month.csv\n",
      "Saved /workspace/project/app/data/flights_delay_day_of_week.csv\n",
      "Saved /workspace/project/app/data/flights_delay_day_of_month.csv\n",
      "Saved /workspace/project/app/data/flights_delay_hour_of_day.csv\n"
     ]
    }
   ],
   "source": [
    "for k in aggregations.keys():\n",
    "    aggr_df = aggregate_data(d2018, aggregations[k]).rename(columns={aggregations[k][-1]: \"period\"})\n",
    "    filename = \"flights_delay_\" + k + \".csv\"\n",
    "    aggr_df.to_csv(filename, index=False)\n",
    "    print(\"Saved \" + os.path.join(os.getcwd(),filename))"
   ]
  }
 ],
 "metadata": {
  "kernelspec": {
   "display_name": "Python 3",
   "language": "python",
   "name": "python3"
  },
  "language_info": {
   "codemirror_mode": {
    "name": "ipython",
    "version": 3
   },
   "file_extension": ".py",
   "mimetype": "text/x-python",
   "name": "python",
   "nbconvert_exporter": "python",
   "pygments_lexer": "ipython3",
   "version": "3.7.7"
  },
  "toc": {
   "base_numbering": 1,
   "nav_menu": {},
   "number_sections": false,
   "sideBar": true,
   "skip_h1_title": false,
   "title_cell": "Table of Contents",
   "title_sidebar": "Contents",
   "toc_cell": false,
   "toc_position": {},
   "toc_section_display": true,
   "toc_window_display": false
  }
 },
 "nbformat": 4,
 "nbformat_minor": 4
}
